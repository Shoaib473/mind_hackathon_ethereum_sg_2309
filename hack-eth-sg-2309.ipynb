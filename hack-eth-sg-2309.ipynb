{
 "cells": [
  {
   "cell_type": "code",
   "execution_count": null,
   "id": "beae9d09",
   "metadata": {},
   "outputs": [],
   "source": [
    "# for demo purpose, configure alice and bob in different files\n",
    "import secrets_alice\n",
    "import secrets_bob"
   ]
  },
  {
   "cell_type": "code",
   "execution_count": null,
   "id": "3718a5e9",
   "metadata": {},
   "outputs": [],
   "source": [
    "import sdk_mind_fhe\n",
    "import settings\n",
    "from web3 import Web3"
   ]
  },
  {
   "cell_type": "markdown",
   "id": "23577714",
   "metadata": {},
   "source": [
    "# 1. Bob prepare keys (once and reuse)"
   ]
  },
  {
   "cell_type": "code",
   "execution_count": null,
   "id": "d573ffaa",
   "metadata": {},
   "outputs": [],
   "source": [
    "import secrets_bob\n",
    "web3 = Web3(Web3.HTTPProvider(secrets_bob.WEB3API))\n",
    "walletAccount_bob = web3.eth.account.from_key(secrets_bob.walletPrivateKey)\n",
    "\n",
    "SK_2, PK_2 = sdk_mind_fhe.gen_spend_keys()\n",
    "SK_b, PK_b = sdk_mind_fhe.gen_fhe_keys()"
   ]
  },
  {
   "cell_type": "markdown",
   "id": "3ffe32aa",
   "metadata": {},
   "source": [
    "# 2. Bob register public keys (once and reuse)"
   ]
  },
  {
   "cell_type": "code",
   "execution_count": null,
   "id": "d0894fbd",
   "metadata": {},
   "outputs": [],
   "source": [
    "contract_ns = web3.eth.contract(address=settings.CONTRACT_ADDRESS_NS, abi=settings.CONTRACT_ABI_NS)\n",
    "\n",
    "import secrets_bob\n",
    "web3 = Web3(Web3.HTTPProvider(secrets_bob.WEB3API))\n",
    "walletAccount_bob = web3.eth.account.from_key(secrets_bob.walletPrivateKey)\n",
    "walletAddress_bob = walletAccount_bob.address\n",
    "\n",
    "nonce = web3.eth.get_transaction_count(walletAddress_bob)\n",
    "txn = contract_ns.functions.setPKNS(PK_2, PK_b).buildTransaction({\n",
    "    'from': walletAddress_bob,\n",
    "    'gasPrice': web3.eth.gas_price,\n",
    "    'nonce': nonce,\n",
    "})\n",
    "\n",
    "signed_txn = walletAccount_bob.signTransaction(txn)\n",
    "txn_hash = web3.eth.send_raw_transaction(signed_txn.rawTransaction)\n",
    "print(f'NS Transaction sent: {txn_hash.hex()}')\n",
    "\n",
    "txn_receipt = web3.eth.wait_for_transaction_receipt(txn_hash)\n",
    "print(f'NS Transaction mined, status: {txn_receipt[\"status\"]}')"
   ]
  },
  {
   "cell_type": "markdown",
   "id": "fb14dd46",
   "metadata": {},
   "source": [
    "# 3. Alice prepare keys (once and reuse)"
   ]
  },
  {
   "cell_type": "code",
   "execution_count": null,
   "id": "bd602b91",
   "metadata": {},
   "outputs": [],
   "source": [
    "import secrets_alice\n",
    "web3 = Web3(Web3.HTTPProvider(secrets_alice.WEB3API))\n",
    "walletAccount_alice = web3.eth.account.from_key(secrets_alice.walletPrivateKey)\n",
    "walletAddress_alice = walletAccount_alice.address\n",
    "\n",
    "SK_1, PK_1 = sdk_mind_fhe.gen_tx_keys()"
   ]
  },
  {
   "cell_type": "markdown",
   "id": "364f8918",
   "metadata": {},
   "source": [
    "# 4. Alice compute SA keys"
   ]
  },
  {
   "cell_type": "code",
   "execution_count": null,
   "id": "417ec1a0",
   "metadata": {},
   "outputs": [],
   "source": [
    "# get Bob's NS\n",
    "contract_ns = web3.eth.contract(address=settings.CONTRACT_ADDRESS_NS, abi=settings.CONTRACT_ABI_NS)\n",
    "PK_2, PK_b = contract_ns.functions.getPKNS(walletAddress_bob).call()\n",
    "\n",
    "PK_z = sdk_mind_fhe.get_SA_pk(PK_1, PK_2)\n",
    "SA = sdk_mind_fhe.pktoaddr(PK_z)\n",
    "\n",
    "C1 = sdk_mind_fhe.fhe_enc(SK_1, PK_b)\n",
    "\n",
    "contract_msg = web3.eth.contract(address=settings.CONTRACT_ADDRESS_MSG, abi=settings.CONTRACT_ABI_MSG)\n",
    "\n",
    "import secrets_bob\n",
    "web3 = Web3(Web3.HTTPProvider(secrets_alice.WEB3API))\n",
    "walletAccount_alice = web3.eth.account.from_key(secrets_alice.walletPrivateKey)\n",
    "walletAddress_alice = walletAccount_alice.address\n",
    "\n",
    "nonce = web3.eth.get_transaction_count(walletAddress_alice)\n",
    "txn = contract_msg.functions.setMSG(C1).buildTransaction({\n",
    "    'from': walletAddress_alice,\n",
    "    'gasPrice': web3.eth.gas_price,\n",
    "    'nonce': nonce,\n",
    "})\n",
    "\n",
    "signed_txn = walletAccount_alice.signTransaction(txn)\n",
    "txn_hash = web3.eth.send_raw_transaction(signed_txn.rawTransaction)\n",
    "print(f'MSG Transaction sent: {txn_hash.hex()}')\n",
    "\n",
    "txn_receipt = web3.eth.wait_for_transaction_receipt(txn_hash)\n",
    "print(f'MSG Transaction mined, status: {txn_receipt[\"status\"]}')"
   ]
  },
  {
   "cell_type": "markdown",
   "id": "58bc7e9f",
   "metadata": {},
   "source": [
    "# 5. Alice transfer X of tokens to SA, ERC20 or ETH"
   ]
  },
  {
   "cell_type": "code",
   "execution_count": null,
   "id": "9eb4f16c",
   "metadata": {},
   "outputs": [],
   "source": [
    "X = 1 # or other amount of eth in this example\n",
    "\n",
    "txn = dict(\n",
    "    nonce=Web3.eth.get_transaction_count(Web3.eth.coinbase),\n",
    "    from=walletAddress_alice,\n",
    "    to=SA,\n",
    "    value=X\n",
    ")\n",
    "\n",
    "signed_txn = walletAccount_alice.signTransaction(txn)\n",
    "txn_hash = web3.eth.send_raw_transaction(signed_txn.rawTransaction)\n",
    "print(f'TX Transaction sent: {txn_hash.hex()}')\n",
    "\n",
    "txn_receipt = web3.eth.wait_for_transaction_receipt(txn_hash)\n",
    "print(f'TX Transaction mined, status: {txn_receipt[\"status\"]}')"
   ]
  },
  {
   "cell_type": "markdown",
   "id": "6b875e28",
   "metadata": {},
   "source": [
    "# 6. Bob scan to target on SA with C1"
   ]
  },
  {
   "cell_type": "code",
   "execution_count": null,
   "id": "622bca8f",
   "metadata": {},
   "outputs": [],
   "source": [
    "C2 = sdk_mind_fhe.fhe_enc(SK_2, PK_b)\n",
    "\n",
    "contract_msg = web3.eth.contract(address=settings.CONTRACT_ADDRESS_MSG, abi=settings.CONTRACT_ABI_MSG)\n",
    "C1 = contract_msg.functions.getMSG(walletAddress_alice).call()\n",
    "\n",
    "C = C1 + C2\n",
    "SK_z1 = sdk_mind_fhe.fhe_dec(C, SK_b)\n",
    "PK_z1 = sdk_mind_fhe.sktopk(SK_z1)\n",
    "SA1 = sdk_mind_fhe.pktoaddr(PK_z1)\n",
    "\n",
    "if SA != SA1:\n",
    "    print(\"# no validated SA and continue\")\n",
    "    pass \n",
    "else:\n",
    "    print(\"go step 7 to control or withdraw X from SA with SK_z1\")\n",
    "    pass"
   ]
  },
  {
   "cell_type": "markdown",
   "id": "1fc2e904",
   "metadata": {},
   "source": [
    "# 7. Bob manage SA with secret key"
   ]
  },
  {
   "cell_type": "code",
   "execution_count": null,
   "id": "715eb8da",
   "metadata": {},
   "outputs": [],
   "source": [
    "print(\"more steps to go\")"
   ]
  }
 ],
 "metadata": {
  "kernelspec": {
   "display_name": "3.10.11",
   "language": "python",
   "name": "3.10.11"
  },
  "language_info": {
   "codemirror_mode": {
    "name": "ipython",
    "version": 3
   },
   "file_extension": ".py",
   "mimetype": "text/x-python",
   "name": "python",
   "nbconvert_exporter": "python",
   "pygments_lexer": "ipython3",
   "version": "3.10.11"
  }
 },
 "nbformat": 4,
 "nbformat_minor": 5
}
